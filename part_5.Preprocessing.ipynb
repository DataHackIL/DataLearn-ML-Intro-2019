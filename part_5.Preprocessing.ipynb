{
 "cells": [
  {
   "cell_type": "markdown",
   "metadata": {
    "colab_type": "text",
    "id": "WdCymrFIT2SX"
   },
   "source": [
    "# Preprocessing data"
   ]
  },
  {
   "cell_type": "markdown",
   "metadata": {
    "colab_type": "text",
    "id": "kggx7dYzUKTZ"
   },
   "source": [
    "## Some package imports"
   ]
  },
  {
   "cell_type": "code",
   "execution_count": 89,
   "metadata": {
    "colab": {
     "base_uri": "https://localhost:8080/",
     "height": 50
    },
    "colab_type": "code",
    "executionInfo": {
     "elapsed": 8886,
     "status": "ok",
     "timestamp": 1565862144934,
     "user": {
      "displayName": "Shay Palachy",
      "photoUrl": "https://lh5.googleusercontent.com/-_8J8Je8o3NQ/AAAAAAAAAAI/AAAAAAAAFOE/d2-wJaGxpaA/s64/photo.jpg",
      "userId": "01723284119030760908"
     },
     "user_tz": -180
    },
    "id": "cfUsuFH5Q5WK",
    "outputId": "3b9f7b54-7a06-4101-d520-1b401aa2dfd8"
   },
   "outputs": [],
   "source": [
    "!pip install -U -q datalearn19intro\n",
    "import pandas as pd\n",
    "from datalearn19intro import get_accounts, get_events, get_subscriptions, get_users\n",
    "%matplotlib inline"
   ]
  },
  {
   "cell_type": "markdown",
   "metadata": {
    "colab_type": "text",
    "id": "BXKdWINCUTqk"
   },
   "source": [
    "## Reading the data"
   ]
  },
  {
   "cell_type": "code",
   "execution_count": 20,
   "metadata": {
    "colab": {
     "base_uri": "https://localhost:8080/",
     "height": 282
    },
    "colab_type": "code",
    "executionInfo": {
     "elapsed": 18263,
     "status": "ok",
     "timestamp": 1565862926786,
     "user": {
      "displayName": "Shay Palachy",
      "photoUrl": "https://lh5.googleusercontent.com/-_8J8Je8o3NQ/AAAAAAAAAAI/AAAAAAAAFOE/d2-wJaGxpaA/s64/photo.jpg",
      "userId": "01723284119030760908"
     },
     "user_tz": -180
    },
    "id": "FBtOxuzOSWTR",
    "outputId": "06855a45-fe8f-4d97-8213-e4a6dfbd6dbe"
   },
   "outputs": [],
   "source": [
    "accounts = get_accounts()\n",
    "users = get_users()\n",
    "events = get_events()\n",
    "subscriptions = get_subscriptions()"
   ]
  },
  {
   "cell_type": "code",
   "execution_count": 4,
   "metadata": {
    "colab": {
     "base_uri": "https://localhost:8080/",
     "height": 292
    },
    "colab_type": "code",
    "executionInfo": {
     "elapsed": 1508,
     "status": "ok",
     "timestamp": 1565862944965,
     "user": {
      "displayName": "Shay Palachy",
      "photoUrl": "https://lh5.googleusercontent.com/-_8J8Je8o3NQ/AAAAAAAAAAI/AAAAAAAAFOE/d2-wJaGxpaA/s64/photo.jpg",
      "userId": "01723284119030760908"
     },
     "user_tz": -180
    },
    "id": "7nnRSFr3THC4",
    "outputId": "56af3b2e-9efc-4eaf-942e-ded0ea77c8ab"
   },
   "outputs": [
    {
     "data": {
      "text/html": [
       "<div>\n",
       "<style scoped>\n",
       "    .dataframe tbody tr th:only-of-type {\n",
       "        vertical-align: middle;\n",
       "    }\n",
       "\n",
       "    .dataframe tbody tr th {\n",
       "        vertical-align: top;\n",
       "    }\n",
       "\n",
       "    .dataframe thead th {\n",
       "        text-align: right;\n",
       "    }\n",
       "</style>\n",
       "<table border=\"1\" class=\"dataframe\">\n",
       "  <thead>\n",
       "    <tr style=\"text-align: right;\">\n",
       "      <th></th>\n",
       "      <th>account_id</th>\n",
       "      <th>marketing_source</th>\n",
       "      <th>marketing_referrer</th>\n",
       "      <th>created_at</th>\n",
       "      <th>plan_id</th>\n",
       "      <th>trial_start</th>\n",
       "      <th>started_plan_at</th>\n",
       "      <th>signup_box_origin</th>\n",
       "      <th>churn_state</th>\n",
       "      <th>churn_date</th>\n",
       "      <th>churn_reason</th>\n",
       "      <th>time_diff</th>\n",
       "      <th>region</th>\n",
       "      <th>country</th>\n",
       "      <th>subscription_started_at</th>\n",
       "      <th>paying</th>\n",
       "      <th>is_gmail</th>\n",
       "      <th>has_logo</th>\n",
       "      <th>free_users</th>\n",
       "      <th>marketing_banner</th>\n",
       "      <th>device</th>\n",
       "      <th>os</th>\n",
       "      <th>browser</th>\n",
       "      <th>collection_21_days</th>\n",
       "      <th>trial_period</th>\n",
       "      <th>company_size</th>\n",
       "      <th>next_charge_date</th>\n",
       "      <th>last_upgrade_promotion_start</th>\n",
       "      <th>cs_agent</th>\n",
       "      <th>sales_agent</th>\n",
       "      <th>disabled</th>\n",
       "      <th>payment_currency</th>\n",
       "      <th>disable_promotion</th>\n",
       "      <th>max_team_size</th>\n",
       "      <th>min_team_size</th>\n",
       "      <th>cancellation_on_renewal_date</th>\n",
       "      <th>partner_id</th>\n",
       "      <th>industry</th>\n",
       "      <th>billed_users_count</th>\n",
       "      <th>utm_cluster_id</th>\n",
       "      <th>pricing_version</th>\n",
       "      <th>has_domain</th>\n",
       "      <th>mrr</th>\n",
       "      <th>lead_score</th>\n",
       "      <th>industry.1</th>\n",
       "      <th>team_size</th>\n",
       "      <th>user_goal</th>\n",
       "      <th>user_description</th>\n",
       "      <th>sub_industry</th>\n",
       "    </tr>\n",
       "  </thead>\n",
       "  <tbody>\n",
       "    <tr>\n",
       "      <th>0</th>\n",
       "      <td>2793496</td>\n",
       "      <td>bing</td>\n",
       "      <td>https://www.bing.com/search?q=basecamp login</td>\n",
       "      <td>2019-01-01</td>\n",
       "      <td>NaN</td>\n",
       "      <td>2019-01-01</td>\n",
       "      <td>NaN</td>\n",
       "      <td>NaN</td>\n",
       "      <td>none</td>\n",
       "      <td>NaN</td>\n",
       "      <td>NaN</td>\n",
       "      <td>11.0</td>\n",
       "      <td>New South Wales</td>\n",
       "      <td>AU</td>\n",
       "      <td>NaN</td>\n",
       "      <td>0</td>\n",
       "      <td>1</td>\n",
       "      <td>1</td>\n",
       "      <td>NaN</td>\n",
       "      <td>NaN</td>\n",
       "      <td>desktop</td>\n",
       "      <td>windows</td>\n",
       "      <td>microsoft edge</td>\n",
       "      <td>0</td>\n",
       "      <td>14</td>\n",
       "      <td>NaN</td>\n",
       "      <td>NaN</td>\n",
       "      <td>NaN</td>\n",
       "      <td>NaN</td>\n",
       "      <td>NaN</td>\n",
       "      <td>NaN</td>\n",
       "      <td>AUD</td>\n",
       "      <td>0</td>\n",
       "      <td>5.0</td>\n",
       "      <td>2.0</td>\n",
       "      <td>NaN</td>\n",
       "      <td>NaN</td>\n",
       "      <td>NaN</td>\n",
       "      <td>0</td>\n",
       "      <td>orders</td>\n",
       "      <td>3</td>\n",
       "      <td>0</td>\n",
       "      <td>NaN</td>\n",
       "      <td>0</td>\n",
       "      <td>NaN</td>\n",
       "      <td>NaN</td>\n",
       "      <td>NaN</td>\n",
       "      <td>NaN</td>\n",
       "      <td>NaN</td>\n",
       "    </tr>\n",
       "    <tr>\n",
       "      <th>1</th>\n",
       "      <td>2793497</td>\n",
       "      <td>NaN</td>\n",
       "      <td>NaN</td>\n",
       "      <td>2019-01-01</td>\n",
       "      <td>NaN</td>\n",
       "      <td>2019-01-01</td>\n",
       "      <td>NaN</td>\n",
       "      <td>mobile_app</td>\n",
       "      <td>none</td>\n",
       "      <td>NaN</td>\n",
       "      <td>NaN</td>\n",
       "      <td>NaN</td>\n",
       "      <td>New Jersey</td>\n",
       "      <td>US</td>\n",
       "      <td>NaN</td>\n",
       "      <td>0</td>\n",
       "      <td>1</td>\n",
       "      <td>1</td>\n",
       "      <td>NaN</td>\n",
       "      <td>NaN</td>\n",
       "      <td>mobile</td>\n",
       "      <td>ios</td>\n",
       "      <td>NaN</td>\n",
       "      <td>0</td>\n",
       "      <td>14</td>\n",
       "      <td>NaN</td>\n",
       "      <td>NaN</td>\n",
       "      <td>NaN</td>\n",
       "      <td>NaN</td>\n",
       "      <td>NaN</td>\n",
       "      <td>NaN</td>\n",
       "      <td>USD</td>\n",
       "      <td>0</td>\n",
       "      <td>5.0</td>\n",
       "      <td>2.0</td>\n",
       "      <td>NaN</td>\n",
       "      <td>NaN</td>\n",
       "      <td>NaN</td>\n",
       "      <td>0</td>\n",
       "      <td>NaN</td>\n",
       "      <td>3</td>\n",
       "      <td>0</td>\n",
       "      <td>NaN</td>\n",
       "      <td>0</td>\n",
       "      <td>NaN</td>\n",
       "      <td>NaN</td>\n",
       "      <td>NaN</td>\n",
       "      <td>NaN</td>\n",
       "      <td>NaN</td>\n",
       "    </tr>\n",
       "    <tr>\n",
       "      <th>2</th>\n",
       "      <td>2793498</td>\n",
       "      <td>adwordsverticals</td>\n",
       "      <td>https://www.google.com/</td>\n",
       "      <td>2019-01-01</td>\n",
       "      <td>NaN</td>\n",
       "      <td>2019-01-01</td>\n",
       "      <td>NaN</td>\n",
       "      <td>NaN</td>\n",
       "      <td>none</td>\n",
       "      <td>NaN</td>\n",
       "      <td>NaN</td>\n",
       "      <td>-6.0</td>\n",
       "      <td>Louisiana</td>\n",
       "      <td>US</td>\n",
       "      <td>NaN</td>\n",
       "      <td>0</td>\n",
       "      <td>1</td>\n",
       "      <td>1</td>\n",
       "      <td>NaN</td>\n",
       "      <td>NaN</td>\n",
       "      <td>desktop</td>\n",
       "      <td>windows</td>\n",
       "      <td>chrome</td>\n",
       "      <td>0</td>\n",
       "      <td>14</td>\n",
       "      <td>NaN</td>\n",
       "      <td>NaN</td>\n",
       "      <td>NaN</td>\n",
       "      <td>NaN</td>\n",
       "      <td>NaN</td>\n",
       "      <td>NaN</td>\n",
       "      <td>USD</td>\n",
       "      <td>0</td>\n",
       "      <td>1.0</td>\n",
       "      <td>1.0</td>\n",
       "      <td>NaN</td>\n",
       "      <td>NaN</td>\n",
       "      <td>Other</td>\n",
       "      <td>0</td>\n",
       "      <td>todos</td>\n",
       "      <td>3</td>\n",
       "      <td>0</td>\n",
       "      <td>NaN</td>\n",
       "      <td>0</td>\n",
       "      <td>Other</td>\n",
       "      <td>1</td>\n",
       "      <td>NaN</td>\n",
       "      <td>NaN</td>\n",
       "      <td>NaN</td>\n",
       "    </tr>\n",
       "    <tr>\n",
       "      <th>3</th>\n",
       "      <td>2793499</td>\n",
       "      <td>NaN</td>\n",
       "      <td>NaN</td>\n",
       "      <td>2019-01-01</td>\n",
       "      <td>NaN</td>\n",
       "      <td>2019-01-01</td>\n",
       "      <td>NaN</td>\n",
       "      <td>mobile_app</td>\n",
       "      <td>none</td>\n",
       "      <td>NaN</td>\n",
       "      <td>NaN</td>\n",
       "      <td>NaN</td>\n",
       "      <td>Tel Aviv</td>\n",
       "      <td>IL</td>\n",
       "      <td>NaN</td>\n",
       "      <td>0</td>\n",
       "      <td>1</td>\n",
       "      <td>1</td>\n",
       "      <td>NaN</td>\n",
       "      <td>NaN</td>\n",
       "      <td>mobile</td>\n",
       "      <td>android</td>\n",
       "      <td>NaN</td>\n",
       "      <td>0</td>\n",
       "      <td>14</td>\n",
       "      <td>NaN</td>\n",
       "      <td>NaN</td>\n",
       "      <td>NaN</td>\n",
       "      <td>NaN</td>\n",
       "      <td>NaN</td>\n",
       "      <td>NaN</td>\n",
       "      <td>USD</td>\n",
       "      <td>0</td>\n",
       "      <td>NaN</td>\n",
       "      <td>NaN</td>\n",
       "      <td>NaN</td>\n",
       "      <td>NaN</td>\n",
       "      <td>NaN</td>\n",
       "      <td>0</td>\n",
       "      <td>NaN</td>\n",
       "      <td>3</td>\n",
       "      <td>0</td>\n",
       "      <td>NaN</td>\n",
       "      <td>0</td>\n",
       "      <td>NaN</td>\n",
       "      <td>NaN</td>\n",
       "      <td>NaN</td>\n",
       "      <td>NaN</td>\n",
       "      <td>NaN</td>\n",
       "    </tr>\n",
       "    <tr>\n",
       "      <th>4</th>\n",
       "      <td>2793500</td>\n",
       "      <td>adwordsyoutube</td>\n",
       "      <td>https://www.youtube.com/</td>\n",
       "      <td>2019-01-01</td>\n",
       "      <td>NaN</td>\n",
       "      <td>2019-04-04</td>\n",
       "      <td>NaN</td>\n",
       "      <td>NaN</td>\n",
       "      <td>none</td>\n",
       "      <td>NaN</td>\n",
       "      <td>NaN</td>\n",
       "      <td>-5.0</td>\n",
       "      <td>North Carolina</td>\n",
       "      <td>US</td>\n",
       "      <td>NaN</td>\n",
       "      <td>0</td>\n",
       "      <td>1</td>\n",
       "      <td>1</td>\n",
       "      <td>NaN</td>\n",
       "      <td>NaN</td>\n",
       "      <td>desktop</td>\n",
       "      <td>chrome_os</td>\n",
       "      <td>chrome</td>\n",
       "      <td>0</td>\n",
       "      <td>14</td>\n",
       "      <td>NaN</td>\n",
       "      <td>NaN</td>\n",
       "      <td>NaN</td>\n",
       "      <td>NaN</td>\n",
       "      <td>NaN</td>\n",
       "      <td>NaN</td>\n",
       "      <td>USD</td>\n",
       "      <td>0</td>\n",
       "      <td>1.0</td>\n",
       "      <td>1.0</td>\n",
       "      <td>NaN</td>\n",
       "      <td>NaN</td>\n",
       "      <td>Design</td>\n",
       "      <td>0</td>\n",
       "      <td>todos</td>\n",
       "      <td>3</td>\n",
       "      <td>0</td>\n",
       "      <td>NaN</td>\n",
       "      <td>0</td>\n",
       "      <td>Design</td>\n",
       "      <td>1</td>\n",
       "      <td>NaN</td>\n",
       "      <td>NaN</td>\n",
       "      <td>NaN</td>\n",
       "    </tr>\n",
       "  </tbody>\n",
       "</table>\n",
       "</div>"
      ],
      "text/plain": [
       "   account_id  marketing_source  ... user_description sub_industry\n",
       "0     2793496              bing  ...              NaN          NaN\n",
       "1     2793497               NaN  ...              NaN          NaN\n",
       "2     2793498  adwordsverticals  ...              NaN          NaN\n",
       "3     2793499               NaN  ...              NaN          NaN\n",
       "4     2793500    adwordsyoutube  ...              NaN          NaN\n",
       "\n",
       "[5 rows x 49 columns]"
      ]
     },
     "execution_count": 4,
     "metadata": {
      "tags": []
     },
     "output_type": "execute_result"
    }
   ],
   "source": [
    "accounts_file_id = '1SFFGL_FIq3-l6CP9MTe9ueuLRMz_tvrw' # you can see it with \"get sherable link\"\n",
    "downloaded = drive.CreateFile({'id': accounts_file_id})\n",
    "downloaded.GetContentFile('accounts.csv')  \n",
    "accounts = pd.read_csv('accounts.csv')\n",
    "accounts.head()"
   ]
  },
  {
   "cell_type": "code",
   "execution_count": 21,
   "metadata": {
    "colab": {},
    "colab_type": "code",
    "id": "mgV1FJ1xTqjW"
   },
   "outputs": [],
   "source": [
    "df = \\\n",
    "         pd.merge(pd.merge(accounts, users, on = 'account_id', how = 'outer', suffixes = ('_fromaccounts', '_fromusers')),\n",
    "         pd.merge(events, subscriptions, on = 'account_id', how = 'outer', suffixes = ('_fromevents', '_fromsubscriptions')),\n",
    "         how = 'outer', on = ['user_id', 'account_id'])"
   ]
  },
  {
   "cell_type": "code",
   "execution_count": 22,
   "metadata": {},
   "outputs": [
    {
     "data": {
      "text/plain": [
       "(11687, 108)"
      ]
     },
     "execution_count": 22,
     "metadata": {},
     "output_type": "execute_result"
    }
   ],
   "source": [
    "df.shape"
   ]
  },
  {
   "cell_type": "code",
   "execution_count": 23,
   "metadata": {},
   "outputs": [],
   "source": [
    "n_rows = len(df)\n",
    "n_cols = len(df.columns)"
   ]
  },
  {
   "cell_type": "code",
   "execution_count": 107,
   "metadata": {},
   "outputs": [],
   "source": [
    "pd.options.display.float_format = '{:,.2f}'.format\n",
    "pd.set_option('display.max_columns', 100)\n",
    "pd.set_option('display.max_rows', 200)"
   ]
  },
  {
   "cell_type": "code",
   "execution_count": 41,
   "metadata": {
    "colab": {},
    "colab_type": "code",
    "id": "B3qWVcNjTsoq"
   },
   "outputs": [
    {
     "data": {
      "text/html": [
       "<div>\n",
       "<style scoped>\n",
       "    .dataframe tbody tr th:only-of-type {\n",
       "        vertical-align: middle;\n",
       "    }\n",
       "\n",
       "    .dataframe tbody tr th {\n",
       "        vertical-align: top;\n",
       "    }\n",
       "\n",
       "    .dataframe thead th {\n",
       "        text-align: right;\n",
       "    }\n",
       "</style>\n",
       "<table border=\"1\" class=\"dataframe\">\n",
       "  <thead>\n",
       "    <tr style=\"text-align: right;\">\n",
       "      <th></th>\n",
       "      <th>account_id</th>\n",
       "      <th>marketing_source</th>\n",
       "      <th>marketing_referrer</th>\n",
       "      <th>created_at_fromaccounts</th>\n",
       "      <th>plan_id_x</th>\n",
       "      <th>trial_start</th>\n",
       "      <th>started_plan_at</th>\n",
       "      <th>signup_box_origin</th>\n",
       "      <th>churn_state</th>\n",
       "      <th>churn_date</th>\n",
       "      <th>churn_reason</th>\n",
       "      <th>time_diff_fromaccounts</th>\n",
       "      <th>region_fromaccounts</th>\n",
       "      <th>country_fromaccounts</th>\n",
       "      <th>subscription_started_at</th>\n",
       "      <th>...</th>\n",
       "      <th>empty_events</th>\n",
       "      <th>event_date</th>\n",
       "      <th>plan_id_y</th>\n",
       "      <th>event_type</th>\n",
       "      <th>invoice_charge_amount</th>\n",
       "      <th>prev_plan_id</th>\n",
       "      <th>status</th>\n",
       "      <th>status_reason</th>\n",
       "      <th>currency</th>\n",
       "      <th>invoice_charge_amount_usd</th>\n",
       "      <th>mrr_gain</th>\n",
       "      <th>subscription_id</th>\n",
       "      <th>next_charge_date_y</th>\n",
       "      <th>payment_type</th>\n",
       "      <th>transaction_date</th>\n",
       "    </tr>\n",
       "  </thead>\n",
       "  <tbody>\n",
       "    <tr>\n",
       "      <th>0</th>\n",
       "      <td>2793496</td>\n",
       "      <td>bing</td>\n",
       "      <td>https://www.bing.com/search?q=basecamp login</td>\n",
       "      <td>2019-01-01</td>\n",
       "      <td>nan</td>\n",
       "      <td>2019-01-01</td>\n",
       "      <td>NaN</td>\n",
       "      <td>NaN</td>\n",
       "      <td>none</td>\n",
       "      <td>NaN</td>\n",
       "      <td>nan</td>\n",
       "      <td>11.00</td>\n",
       "      <td>New South Wales</td>\n",
       "      <td>AU</td>\n",
       "      <td>NaN</td>\n",
       "      <td>...</td>\n",
       "      <td>7.00</td>\n",
       "      <td>NaN</td>\n",
       "      <td>nan</td>\n",
       "      <td>NaN</td>\n",
       "      <td>nan</td>\n",
       "      <td>nan</td>\n",
       "      <td>NaN</td>\n",
       "      <td>NaN</td>\n",
       "      <td>NaN</td>\n",
       "      <td>nan</td>\n",
       "      <td>nan</td>\n",
       "      <td>nan</td>\n",
       "      <td>NaN</td>\n",
       "      <td>NaN</td>\n",
       "      <td>NaN</td>\n",
       "    </tr>\n",
       "    <tr>\n",
       "      <th>1</th>\n",
       "      <td>2793496</td>\n",
       "      <td>bing</td>\n",
       "      <td>https://www.bing.com/search?q=basecamp login</td>\n",
       "      <td>2019-01-01</td>\n",
       "      <td>nan</td>\n",
       "      <td>2019-01-01</td>\n",
       "      <td>NaN</td>\n",
       "      <td>NaN</td>\n",
       "      <td>none</td>\n",
       "      <td>NaN</td>\n",
       "      <td>nan</td>\n",
       "      <td>11.00</td>\n",
       "      <td>New South Wales</td>\n",
       "      <td>AU</td>\n",
       "      <td>NaN</td>\n",
       "      <td>...</td>\n",
       "      <td>0.00</td>\n",
       "      <td>NaN</td>\n",
       "      <td>nan</td>\n",
       "      <td>NaN</td>\n",
       "      <td>nan</td>\n",
       "      <td>nan</td>\n",
       "      <td>NaN</td>\n",
       "      <td>NaN</td>\n",
       "      <td>NaN</td>\n",
       "      <td>nan</td>\n",
       "      <td>nan</td>\n",
       "      <td>nan</td>\n",
       "      <td>NaN</td>\n",
       "      <td>NaN</td>\n",
       "      <td>NaN</td>\n",
       "    </tr>\n",
       "    <tr>\n",
       "      <th>2</th>\n",
       "      <td>2793496</td>\n",
       "      <td>bing</td>\n",
       "      <td>https://www.bing.com/search?q=basecamp login</td>\n",
       "      <td>2019-01-01</td>\n",
       "      <td>nan</td>\n",
       "      <td>2019-01-01</td>\n",
       "      <td>NaN</td>\n",
       "      <td>NaN</td>\n",
       "      <td>none</td>\n",
       "      <td>NaN</td>\n",
       "      <td>nan</td>\n",
       "      <td>11.00</td>\n",
       "      <td>New South Wales</td>\n",
       "      <td>AU</td>\n",
       "      <td>NaN</td>\n",
       "      <td>...</td>\n",
       "      <td>0.00</td>\n",
       "      <td>NaN</td>\n",
       "      <td>nan</td>\n",
       "      <td>NaN</td>\n",
       "      <td>nan</td>\n",
       "      <td>nan</td>\n",
       "      <td>NaN</td>\n",
       "      <td>NaN</td>\n",
       "      <td>NaN</td>\n",
       "      <td>nan</td>\n",
       "      <td>nan</td>\n",
       "      <td>nan</td>\n",
       "      <td>NaN</td>\n",
       "      <td>NaN</td>\n",
       "      <td>NaN</td>\n",
       "    </tr>\n",
       "    <tr>\n",
       "      <th>3</th>\n",
       "      <td>2793496</td>\n",
       "      <td>bing</td>\n",
       "      <td>https://www.bing.com/search?q=basecamp login</td>\n",
       "      <td>2019-01-01</td>\n",
       "      <td>nan</td>\n",
       "      <td>2019-01-01</td>\n",
       "      <td>NaN</td>\n",
       "      <td>NaN</td>\n",
       "      <td>none</td>\n",
       "      <td>NaN</td>\n",
       "      <td>nan</td>\n",
       "      <td>11.00</td>\n",
       "      <td>New South Wales</td>\n",
       "      <td>AU</td>\n",
       "      <td>NaN</td>\n",
       "      <td>...</td>\n",
       "      <td>0.00</td>\n",
       "      <td>NaN</td>\n",
       "      <td>nan</td>\n",
       "      <td>NaN</td>\n",
       "      <td>nan</td>\n",
       "      <td>nan</td>\n",
       "      <td>NaN</td>\n",
       "      <td>NaN</td>\n",
       "      <td>NaN</td>\n",
       "      <td>nan</td>\n",
       "      <td>nan</td>\n",
       "      <td>nan</td>\n",
       "      <td>NaN</td>\n",
       "      <td>NaN</td>\n",
       "      <td>NaN</td>\n",
       "    </tr>\n",
       "  </tbody>\n",
       "</table>\n",
       "<p>4 rows × 108 columns</p>\n",
       "</div>"
      ],
      "text/plain": [
       "   account_id marketing_source                            marketing_referrer  \\\n",
       "0     2793496             bing  https://www.bing.com/search?q=basecamp login   \n",
       "1     2793496             bing  https://www.bing.com/search?q=basecamp login   \n",
       "2     2793496             bing  https://www.bing.com/search?q=basecamp login   \n",
       "3     2793496             bing  https://www.bing.com/search?q=basecamp login   \n",
       "\n",
       "  created_at_fromaccounts  plan_id_x trial_start started_plan_at  \\\n",
       "0              2019-01-01        nan  2019-01-01             NaN   \n",
       "1              2019-01-01        nan  2019-01-01             NaN   \n",
       "2              2019-01-01        nan  2019-01-01             NaN   \n",
       "3              2019-01-01        nan  2019-01-01             NaN   \n",
       "\n",
       "  signup_box_origin churn_state churn_date  churn_reason  \\\n",
       "0               NaN        none        NaN           nan   \n",
       "1               NaN        none        NaN           nan   \n",
       "2               NaN        none        NaN           nan   \n",
       "3               NaN        none        NaN           nan   \n",
       "\n",
       "   time_diff_fromaccounts region_fromaccounts country_fromaccounts  \\\n",
       "0                   11.00     New South Wales                   AU   \n",
       "1                   11.00     New South Wales                   AU   \n",
       "2                   11.00     New South Wales                   AU   \n",
       "3                   11.00     New South Wales                   AU   \n",
       "\n",
       "  subscription_started_at  ...  empty_events  event_date  plan_id_y  \\\n",
       "0                     NaN  ...          7.00         NaN        nan   \n",
       "1                     NaN  ...          0.00         NaN        nan   \n",
       "2                     NaN  ...          0.00         NaN        nan   \n",
       "3                     NaN  ...          0.00         NaN        nan   \n",
       "\n",
       "   event_type invoice_charge_amount prev_plan_id status status_reason  \\\n",
       "0         NaN                   nan          nan    NaN           NaN   \n",
       "1         NaN                   nan          nan    NaN           NaN   \n",
       "2         NaN                   nan          nan    NaN           NaN   \n",
       "3         NaN                   nan          nan    NaN           NaN   \n",
       "\n",
       "   currency  invoice_charge_amount_usd  mrr_gain subscription_id  \\\n",
       "0       NaN                        nan       nan             nan   \n",
       "1       NaN                        nan       nan             nan   \n",
       "2       NaN                        nan       nan             nan   \n",
       "3       NaN                        nan       nan             nan   \n",
       "\n",
       "   next_charge_date_y  payment_type  transaction_date  \n",
       "0                 NaN           NaN               NaN  \n",
       "1                 NaN           NaN               NaN  \n",
       "2                 NaN           NaN               NaN  \n",
       "3                 NaN           NaN               NaN  \n",
       "\n",
       "[4 rows x 108 columns]"
      ]
     },
     "execution_count": 41,
     "metadata": {},
     "output_type": "execute_result"
    }
   ],
   "source": [
    "joined_data.head(4)"
   ]
  },
  {
   "cell_type": "code",
   "execution_count": 51,
   "metadata": {},
   "outputs": [],
   "source": [
    "# joined_data.nunique()"
   ]
  },
  {
   "cell_type": "markdown",
   "metadata": {},
   "source": [
    "**Notice:** Because of the join operation we now have much more rows than accounts, which are the actual entries in our dataset. We will see how to get back to one-row-per-account soon."
   ]
  },
  {
   "cell_type": "markdown",
   "metadata": {},
   "source": [
    "# Imputation"
   ]
  },
  {
   "cell_type": "markdown",
   "metadata": {},
   "source": [
    "## Dropping featues with too much missing data"
   ]
  },
  {
   "cell_type": "markdown",
   "metadata": {},
   "source": [
    "`dropna()` is an important `pandas` method. Use `axis=1` to drop columns and `axis=0`; `how` can be used to drop a row or column if it has `any` or `all` missing values. Use `thresh` to define an integer threshold for **non-missing** values instead."
   ]
  },
  {
   "cell_type": "code",
   "execution_count": 28,
   "metadata": {},
   "outputs": [],
   "source": [
    "import math"
   ]
  },
  {
   "cell_type": "code",
   "execution_count": 29,
   "metadata": {},
   "outputs": [],
   "source": [
    "AT_LEAST_NON_MISSING_PERCENT = 0.7  # require at most 30% missing values per feature"
   ]
  },
  {
   "cell_type": "code",
   "execution_count": 30,
   "metadata": {},
   "outputs": [
    {
     "data": {
      "text/plain": [
       "8180"
      ]
     },
     "execution_count": 30,
     "metadata": {},
     "output_type": "execute_result"
    }
   ],
   "source": [
    "AT_LEAST_NON_MISSING = math.floor(AT_LEAST_NON_MISSING_PERCENT * len(df))\n",
    "AT_LEAST_NON_MISSING"
   ]
  },
  {
   "cell_type": "code",
   "execution_count": 31,
   "metadata": {},
   "outputs": [],
   "source": [
    "df.dropna(axis=1, thresh=AT_LEAST_NON_MISSING, inplace=True)"
   ]
  },
  {
   "cell_type": "code",
   "execution_count": 32,
   "metadata": {},
   "outputs": [
    {
     "data": {
      "text/plain": [
       "64"
      ]
     },
     "execution_count": 32,
     "metadata": {},
     "output_type": "execute_result"
    }
   ],
   "source": [
    "len(df.columns)"
   ]
  },
  {
   "cell_type": "code",
   "execution_count": 33,
   "metadata": {},
   "outputs": [
    {
     "name": "stdout",
     "output_type": "stream",
     "text": [
      "44 columns dropped.\n"
     ]
    }
   ],
   "source": [
    "print(\"{} columns dropped.\".format(n_cols - len(df.columns)))"
   ]
  },
  {
   "cell_type": "markdown",
   "metadata": {},
   "source": [
    "We went from 108 to 64 features!"
   ]
  },
  {
   "cell_type": "markdown",
   "metadata": {},
   "source": [
    "## Dropping rows with too much missing data"
   ]
  },
  {
   "cell_type": "code",
   "execution_count": 34,
   "metadata": {},
   "outputs": [],
   "source": [
    "AT_LEAST_NON_MISSING_PERCENT_ROWS = 0.5  # require at most 50% missing values per row"
   ]
  },
  {
   "cell_type": "code",
   "execution_count": 35,
   "metadata": {},
   "outputs": [
    {
     "data": {
      "text/plain": [
       "32"
      ]
     },
     "execution_count": 35,
     "metadata": {},
     "output_type": "execute_result"
    }
   ],
   "source": [
    "AT_LEAST_NON_MISSING_ROW = math.floor(AT_LEAST_NON_MISSING_PERCENT_ROWS * len(df.columns))\n",
    "AT_LEAST_NON_MISSING_ROW"
   ]
  },
  {
   "cell_type": "code",
   "execution_count": 36,
   "metadata": {},
   "outputs": [],
   "source": [
    "df.dropna(axis=0, thresh=AT_LEAST_NON_MISSING_ROW, inplace=True)"
   ]
  },
  {
   "cell_type": "code",
   "execution_count": 37,
   "metadata": {},
   "outputs": [
    {
     "data": {
      "text/plain": [
       "11422"
      ]
     },
     "execution_count": 37,
     "metadata": {},
     "output_type": "execute_result"
    }
   ],
   "source": [
    "len(df)"
   ]
  },
  {
   "cell_type": "code",
   "execution_count": 39,
   "metadata": {},
   "outputs": [
    {
     "name": "stdout",
     "output_type": "stream",
     "text": [
      "265 rows dropped.\n"
     ]
    }
   ],
   "source": [
    "print(\"{} rows dropped.\".format(n_rows - len(df)))"
   ]
  },
  {
   "cell_type": "markdown",
   "metadata": {},
   "source": [
    "## Dummy \"missing\" flag"
   ]
  },
  {
   "cell_type": "code",
   "execution_count": 54,
   "metadata": {},
   "outputs": [
    {
     "data": {
      "text/plain": [
       "created_at_fromaccounts     1\n",
       "churn_state                 2\n",
       "paying                      2\n",
       "is_gmail_fromaccounts       2\n",
       "has_logo                    1\n",
       "device_fromaccounts         3\n",
       "os_fromaccounts             6\n",
       "browser_fromaccounts        7\n",
       "trial_period                1\n",
       "payment_currency            5\n",
       "disable_promotion           2\n",
       "max_team_size               9\n",
       "min_team_size              10\n",
       "billed_users_count          8\n",
       "pricing_version             1\n",
       "has_domain                  2\n",
       "lead_score                  2\n",
       "is_admin                    2\n",
       "pending                     2\n",
       "enabled                     2\n",
       "has_photo                   1\n",
       "device_fromusers            3\n",
       "os_fromusers                6\n",
       "is_gmail_fromusers          2\n",
       "gender                      2\n",
       "has_phone                   1\n",
       "notification_events        10\n",
       "dtype: int64"
      ]
     },
     "execution_count": 54,
     "metadata": {},
     "output_type": "execute_result"
    }
   ],
   "source": [
    "df.nunique()[df.nunique() < 11]"
   ]
  },
  {
   "cell_type": "code",
   "execution_count": 62,
   "metadata": {},
   "outputs": [
    {
     "data": {
      "text/plain": [
       "chrome               6725\n",
       "safari               1268\n",
       "generic browser       770\n",
       "firefox               565\n",
       "microsoft edge        287\n",
       "opera                  66\n",
       "internet explorer      14\n",
       "Name: browser_fromaccounts, dtype: int64"
      ]
     },
     "execution_count": 62,
     "metadata": {},
     "output_type": "execute_result"
    }
   ],
   "source": [
    "df.browser_fromaccounts.value_counts()"
   ]
  },
  {
   "cell_type": "markdown",
   "metadata": {},
   "source": [
    "We won't see missing value counts like this. We need to add an argument:"
   ]
  },
  {
   "cell_type": "code",
   "execution_count": 63,
   "metadata": {
    "scrolled": false
   },
   "outputs": [
    {
     "data": {
      "text/plain": [
       "chrome               6725\n",
       "NaN                  1727\n",
       "safari               1268\n",
       "generic browser       770\n",
       "firefox               565\n",
       "microsoft edge        287\n",
       "opera                  66\n",
       "internet explorer      14\n",
       "Name: browser_fromaccounts, dtype: int64"
      ]
     },
     "execution_count": 63,
     "metadata": {},
     "output_type": "execute_result"
    }
   ],
   "source": [
    "df.browser_fromaccounts.value_counts(dropna=False)"
   ]
  },
  {
   "cell_type": "markdown",
   "metadata": {},
   "source": [
    "One option is to put a special flag for missing:"
   ]
  },
  {
   "cell_type": "code",
   "execution_count": 70,
   "metadata": {},
   "outputs": [],
   "source": [
    "filled_browser = df.browser_fromaccounts.fillna('missing')"
   ]
  },
  {
   "cell_type": "code",
   "execution_count": 71,
   "metadata": {},
   "outputs": [
    {
     "data": {
      "text/plain": [
       "chrome               6725\n",
       "missing              1727\n",
       "safari               1268\n",
       "generic browser       770\n",
       "firefox               565\n",
       "microsoft edge        287\n",
       "opera                  66\n",
       "internet explorer      14\n",
       "Name: browser_fromaccounts, dtype: int64"
      ]
     },
     "execution_count": 71,
     "metadata": {},
     "output_type": "execute_result"
    }
   ],
   "source": [
    "filled_browser.value_counts()"
   ]
  },
  {
   "cell_type": "markdown",
   "metadata": {},
   "source": [
    "But in this case, just putting this into the `generic browser` category might not be a bad idea."
   ]
  },
  {
   "cell_type": "code",
   "execution_count": 72,
   "metadata": {},
   "outputs": [],
   "source": [
    "filled_browser = df.browser_fromaccounts.fillna('generic browser')"
   ]
  },
  {
   "cell_type": "code",
   "execution_count": 73,
   "metadata": {},
   "outputs": [
    {
     "data": {
      "text/plain": [
       "chrome               6725\n",
       "generic browser      2497\n",
       "safari               1268\n",
       "firefox               565\n",
       "microsoft edge        287\n",
       "opera                  66\n",
       "internet explorer      14\n",
       "Name: browser_fromaccounts, dtype: int64"
      ]
     },
     "execution_count": 73,
     "metadata": {},
     "output_type": "execute_result"
    }
   ],
   "source": [
    "filled_browser.value_counts()"
   ]
  },
  {
   "cell_type": "markdown",
   "metadata": {},
   "source": [
    "Let's just go with `missing` for this one, though..."
   ]
  },
  {
   "cell_type": "code",
   "execution_count": 74,
   "metadata": {},
   "outputs": [],
   "source": [
    "df.browser_fromaccounts = df.browser_fromaccounts.fillna('missing')"
   ]
  },
  {
   "cell_type": "code",
   "execution_count": 75,
   "metadata": {
    "scrolled": true
   },
   "outputs": [
    {
     "data": {
      "text/plain": [
       "chrome               6725\n",
       "missing              1727\n",
       "safari               1268\n",
       "generic browser       770\n",
       "firefox               565\n",
       "microsoft edge        287\n",
       "opera                  66\n",
       "internet explorer      14\n",
       "Name: browser_fromaccounts, dtype: int64"
      ]
     },
     "execution_count": 75,
     "metadata": {},
     "output_type": "execute_result"
    }
   ],
   "source": [
    "df.browser_fromaccounts.value_counts()"
   ]
  },
  {
   "cell_type": "markdown",
   "metadata": {},
   "source": [
    "## Filling missing value with the mean/median/mode..."
   ]
  },
  {
   "cell_type": "markdown",
   "metadata": {},
   "source": [
    "Let's find a numerical feature with enough missing data..."
   ]
  },
  {
   "cell_type": "code",
   "execution_count": 87,
   "metadata": {
    "scrolled": true
   },
   "outputs": [
    {
     "data": {
      "text/plain": [
       "Index(['marketing_referrer', 'region_fromaccounts', 'country_fromaccounts',\n",
       "       'became_active_at', 'city', 'region_fromusers', 'country_fromusers',\n",
       "       'campaign_id', 'first_user_in_account_id', 'total_events',\n",
       "       'column_events', 'raw_events', 'non_communicating_events', 'web_events',\n",
       "       'ios_events', 'android_events', 'desktop_app_events'],\n",
       "      dtype='object')"
      ]
     },
     "execution_count": 87,
     "metadata": {},
     "output_type": "execute_result"
    }
   ],
   "source": [
    "df.columns[(df.nunique() > 50) & (df.isna().sum() > 50)]"
   ]
  },
  {
   "cell_type": "code",
   "execution_count": 91,
   "metadata": {},
   "outputs": [
    {
     "data": {
      "text/plain": [
       "<matplotlib.axes._subplots.AxesSubplot at 0x11aa791d0>"
      ]
     },
     "execution_count": 91,
     "metadata": {},
     "output_type": "execute_result"
    },
    {
     "data": {
      "image/png": "[encoded data removed]",
      "text/plain": [
       "<Figure size 432x288 with 1 Axes>"
      ]
     },
     "metadata": {
      "needs_background": "light"
     },
     "output_type": "display_data"
    }
   ],
   "source": [
    "df.raw_events.hist(bins=40)"
   ]
  },
  {
   "cell_type": "code",
   "execution_count": 94,
   "metadata": {},
   "outputs": [
    {
     "data": {
      "text/plain": [
       "<matplotlib.axes._subplots.AxesSubplot at 0x11901c6a0>"
      ]
     },
     "execution_count": 94,
     "metadata": {},
     "output_type": "execute_result"
    },
    {
     "data": {
      "image/png": "[encoded data removed]",
      "text/plain": [
       "<Figure size 432x288 with 1 Axes>"
      ]
     },
     "metadata": {
      "needs_background": "light"
     },
     "output_type": "display_data"
    }
   ],
   "source": [
    "df.raw_events[df.raw_events<40].hist(bins=40)"
   ]
  },
  {
   "cell_type": "code",
   "execution_count": 93,
   "metadata": {},
   "outputs": [
    {
     "data": {
      "text/plain": [
       "99"
      ]
     },
     "execution_count": 93,
     "metadata": {},
     "output_type": "execute_result"
    }
   ],
   "source": [
    "df.raw_events.isna().sum()"
   ]
  },
  {
   "cell_type": "code",
   "execution_count": 95,
   "metadata": {},
   "outputs": [
    {
     "data": {
      "text/plain": [
       "1.532456062880862"
      ]
     },
     "execution_count": 95,
     "metadata": {},
     "output_type": "execute_result"
    }
   ],
   "source": [
    "df.raw_events.mean()"
   ]
  },
  {
   "cell_type": "markdown",
   "metadata": {},
   "source": [
    "This is an integer feature, though! No sense in putting a real number as a stand-in. Let's look at the mode and median instead. Recall these are outlier-robust and skewness-robust statistics, and the distribution above seems very skewed..."
   ]
  },
  {
   "cell_type": "code",
   "execution_count": 98,
   "metadata": {},
   "outputs": [
    {
     "data": {
      "text/plain": [
       "0.0"
      ]
     },
     "execution_count": 98,
     "metadata": {},
     "output_type": "execute_result"
    }
   ],
   "source": [
    "df.raw_events.median()"
   ]
  },
  {
   "cell_type": "code",
   "execution_count": 97,
   "metadata": {},
   "outputs": [
    {
     "data": {
      "text/plain": [
       "0   0.00\n",
       "dtype: float64"
      ]
     },
     "execution_count": 97,
     "metadata": {},
     "output_type": "execute_result"
    }
   ],
   "source": [
    "df.raw_events.mode()"
   ]
  },
  {
   "cell_type": "markdown",
   "metadata": {},
   "source": [
    "Filling missing values with zeros makes **a lot** of sense, in this case."
   ]
  },
  {
   "cell_type": "code",
   "execution_count": 100,
   "metadata": {},
   "outputs": [],
   "source": [
    "df.raw_events.fillna(value=0, inplace=True)"
   ]
  },
  {
   "cell_type": "code",
   "execution_count": 101,
   "metadata": {},
   "outputs": [
    {
     "data": {
      "text/plain": [
       "0"
      ]
     },
     "execution_count": 101,
     "metadata": {},
     "output_type": "execute_result"
    }
   ],
   "source": [
    "df.raw_events.isna().sum()"
   ]
  },
  {
   "cell_type": "code",
   "execution_count": 102,
   "metadata": {
    "scrolled": false
   },
   "outputs": [
    {
     "data": {
      "text/plain": [
       "<matplotlib.axes._subplots.AxesSubplot at 0x118b441d0>"
      ]
     },
     "execution_count": 102,
     "metadata": {},
     "output_type": "execute_result"
    },
    {
     "data": {
      "image/png": "[encoded data removed]",
      "text/plain": [
       "<Figure size 432x288 with 1 Axes>"
      ]
     },
     "metadata": {
      "needs_background": "light"
     },
     "output_type": "display_data"
    }
   ],
   "source": [
    "df.raw_events[df.raw_events<40].hist(bins=40)"
   ]
  },
  {
   "cell_type": "markdown",
   "metadata": {},
   "source": [
    "#### Back to the presentation! We now discuss feature engineering..."
   ]
  },
  {
   "cell_type": "markdown",
   "metadata": {},
   "source": [
    "# Scaling and normalization"
   ]
  },
  {
   "cell_type": "markdown",
   "metadata": {},
   "source": [
    "Let's find a numeric feature to scale."
   ]
  },
  {
   "cell_type": "code",
   "execution_count": 105,
   "metadata": {},
   "outputs": [],
   "source": [
    "ndf = df.select_dtypes('number')"
   ]
  },
  {
   "cell_type": "code",
   "execution_count": 108,
   "metadata": {},
   "outputs": [
    {
     "data": {
      "text/html": [
       "<div>\n",
       "<style scoped>\n",
       "    .dataframe tbody tr th:only-of-type {\n",
       "        vertical-align: middle;\n",
       "    }\n",
       "\n",
       "    .dataframe tbody tr th {\n",
       "        vertical-align: top;\n",
       "    }\n",
       "\n",
       "    .dataframe thead th {\n",
       "        text-align: right;\n",
       "    }\n",
       "</style>\n",
       "<table border=\"1\" class=\"dataframe\">\n",
       "  <thead>\n",
       "    <tr style=\"text-align: right;\">\n",
       "      <th></th>\n",
       "      <th>account_id</th>\n",
       "      <th>time_diff_fromaccounts</th>\n",
       "      <th>paying</th>\n",
       "      <th>is_gmail_fromaccounts</th>\n",
       "      <th>has_logo</th>\n",
       "      <th>collection_21_days</th>\n",
       "      <th>trial_period</th>\n",
       "      <th>disable_promotion</th>\n",
       "      <th>max_team_size</th>\n",
       "      <th>min_team_size</th>\n",
       "      <th>billed_users_count</th>\n",
       "      <th>pricing_version</th>\n",
       "      <th>has_domain</th>\n",
       "      <th>lead_score</th>\n",
       "      <th>user_id</th>\n",
       "      <th>is_admin</th>\n",
       "      <th>pending</th>\n",
       "      <th>enabled</th>\n",
       "      <th>time_diff_fromusers</th>\n",
       "      <th>serial_number</th>\n",
       "      <th>has_photo</th>\n",
       "      <th>is_gmail_fromusers</th>\n",
       "      <th>campaign_id</th>\n",
       "      <th>first_user_in_account_id</th>\n",
       "      <th>has_phone</th>\n",
       "      <th>total_events</th>\n",
       "      <th>column_events</th>\n",
       "      <th>board_events</th>\n",
       "      <th>num_of_boards</th>\n",
       "      <th>count_kind_columns</th>\n",
       "      <th>raw_events</th>\n",
       "      <th>group_events</th>\n",
       "      <th>invite_events</th>\n",
       "      <th>import_events</th>\n",
       "      <th>notification_events</th>\n",
       "      <th>new_entry_events</th>\n",
       "      <th>payment_events</th>\n",
       "      <th>inbox_events</th>\n",
       "      <th>communicating_events</th>\n",
       "      <th>non_communicating_events</th>\n",
       "      <th>web_events</th>\n",
       "      <th>ios_events</th>\n",
       "      <th>android_events</th>\n",
       "      <th>desktop_app_events</th>\n",
       "      <th>empty_events</th>\n",
       "    </tr>\n",
       "  </thead>\n",
       "  <tbody>\n",
       "    <tr>\n",
       "      <th>0</th>\n",
       "      <td>2793496</td>\n",
       "      <td>11.00</td>\n",
       "      <td>0.00</td>\n",
       "      <td>1.00</td>\n",
       "      <td>1.00</td>\n",
       "      <td>0.00</td>\n",
       "      <td>14.00</td>\n",
       "      <td>0.00</td>\n",
       "      <td>5.00</td>\n",
       "      <td>2.00</td>\n",
       "      <td>0.00</td>\n",
       "      <td>3.00</td>\n",
       "      <td>0.00</td>\n",
       "      <td>0.00</td>\n",
       "      <td>6181341</td>\n",
       "      <td>1.00</td>\n",
       "      <td>0.00</td>\n",
       "      <td>1.00</td>\n",
       "      <td>11.00</td>\n",
       "      <td>1.00</td>\n",
       "      <td>1.00</td>\n",
       "      <td>1.00</td>\n",
       "      <td>4,005,514.00</td>\n",
       "      <td>29,837,820.00</td>\n",
       "      <td>1.00</td>\n",
       "      <td>43.00</td>\n",
       "      <td>0.00</td>\n",
       "      <td>0.00</td>\n",
       "      <td>0.00</td>\n",
       "      <td>0.00</td>\n",
       "      <td>0.00</td>\n",
       "      <td>0.00</td>\n",
       "      <td>0.00</td>\n",
       "      <td>1.00</td>\n",
       "      <td>0.00</td>\n",
       "      <td>1.00</td>\n",
       "      <td>0.00</td>\n",
       "      <td>1.00</td>\n",
       "      <td>0.00</td>\n",
       "      <td>2.00</td>\n",
       "      <td>33.00</td>\n",
       "      <td>0.00</td>\n",
       "      <td>0.00</td>\n",
       "      <td>0.00</td>\n",
       "      <td>7.00</td>\n",
       "    </tr>\n",
       "    <tr>\n",
       "      <th>1</th>\n",
       "      <td>2793496</td>\n",
       "      <td>11.00</td>\n",
       "      <td>0.00</td>\n",
       "      <td>1.00</td>\n",
       "      <td>1.00</td>\n",
       "      <td>0.00</td>\n",
       "      <td>14.00</td>\n",
       "      <td>0.00</td>\n",
       "      <td>5.00</td>\n",
       "      <td>2.00</td>\n",
       "      <td>0.00</td>\n",
       "      <td>3.00</td>\n",
       "      <td>0.00</td>\n",
       "      <td>0.00</td>\n",
       "      <td>6181341</td>\n",
       "      <td>1.00</td>\n",
       "      <td>0.00</td>\n",
       "      <td>1.00</td>\n",
       "      <td>11.00</td>\n",
       "      <td>1.00</td>\n",
       "      <td>1.00</td>\n",
       "      <td>1.00</td>\n",
       "      <td>4,005,514.00</td>\n",
       "      <td>29,837,820.00</td>\n",
       "      <td>1.00</td>\n",
       "      <td>1.00</td>\n",
       "      <td>0.00</td>\n",
       "      <td>0.00</td>\n",
       "      <td>0.00</td>\n",
       "      <td>0.00</td>\n",
       "      <td>0.00</td>\n",
       "      <td>0.00</td>\n",
       "      <td>0.00</td>\n",
       "      <td>0.00</td>\n",
       "      <td>0.00</td>\n",
       "      <td>0.00</td>\n",
       "      <td>0.00</td>\n",
       "      <td>0.00</td>\n",
       "      <td>0.00</td>\n",
       "      <td>0.00</td>\n",
       "      <td>0.00</td>\n",
       "      <td>0.00</td>\n",
       "      <td>0.00</td>\n",
       "      <td>0.00</td>\n",
       "      <td>0.00</td>\n",
       "    </tr>\n",
       "    <tr>\n",
       "      <th>2</th>\n",
       "      <td>2793496</td>\n",
       "      <td>11.00</td>\n",
       "      <td>0.00</td>\n",
       "      <td>1.00</td>\n",
       "      <td>1.00</td>\n",
       "      <td>0.00</td>\n",
       "      <td>14.00</td>\n",
       "      <td>0.00</td>\n",
       "      <td>5.00</td>\n",
       "      <td>2.00</td>\n",
       "      <td>0.00</td>\n",
       "      <td>3.00</td>\n",
       "      <td>0.00</td>\n",
       "      <td>0.00</td>\n",
       "      <td>6181341</td>\n",
       "      <td>1.00</td>\n",
       "      <td>0.00</td>\n",
       "      <td>1.00</td>\n",
       "      <td>11.00</td>\n",
       "      <td>1.00</td>\n",
       "      <td>1.00</td>\n",
       "      <td>1.00</td>\n",
       "      <td>4,005,514.00</td>\n",
       "      <td>29,837,820.00</td>\n",
       "      <td>1.00</td>\n",
       "      <td>1.00</td>\n",
       "      <td>0.00</td>\n",
       "      <td>0.00</td>\n",
       "      <td>0.00</td>\n",
       "      <td>0.00</td>\n",
       "      <td>0.00</td>\n",
       "      <td>0.00</td>\n",
       "      <td>0.00</td>\n",
       "      <td>0.00</td>\n",
       "      <td>0.00</td>\n",
       "      <td>0.00</td>\n",
       "      <td>0.00</td>\n",
       "      <td>0.00</td>\n",
       "      <td>0.00</td>\n",
       "      <td>0.00</td>\n",
       "      <td>0.00</td>\n",
       "      <td>0.00</td>\n",
       "      <td>0.00</td>\n",
       "      <td>0.00</td>\n",
       "      <td>0.00</td>\n",
       "    </tr>\n",
       "    <tr>\n",
       "      <th>3</th>\n",
       "      <td>2793496</td>\n",
       "      <td>11.00</td>\n",
       "      <td>0.00</td>\n",
       "      <td>1.00</td>\n",
       "      <td>1.00</td>\n",
       "      <td>0.00</td>\n",
       "      <td>14.00</td>\n",
       "      <td>0.00</td>\n",
       "      <td>5.00</td>\n",
       "      <td>2.00</td>\n",
       "      <td>0.00</td>\n",
       "      <td>3.00</td>\n",
       "      <td>0.00</td>\n",
       "      <td>0.00</td>\n",
       "      <td>6181341</td>\n",
       "      <td>1.00</td>\n",
       "      <td>0.00</td>\n",
       "      <td>1.00</td>\n",
       "      <td>11.00</td>\n",
       "      <td>1.00</td>\n",
       "      <td>1.00</td>\n",
       "      <td>1.00</td>\n",
       "      <td>4,005,514.00</td>\n",
       "      <td>29,837,820.00</td>\n",
       "      <td>1.00</td>\n",
       "      <td>4.00</td>\n",
       "      <td>0.00</td>\n",
       "      <td>0.00</td>\n",
       "      <td>0.00</td>\n",
       "      <td>0.00</td>\n",
       "      <td>0.00</td>\n",
       "      <td>0.00</td>\n",
       "      <td>0.00</td>\n",
       "      <td>0.00</td>\n",
       "      <td>0.00</td>\n",
       "      <td>0.00</td>\n",
       "      <td>0.00</td>\n",
       "      <td>0.00</td>\n",
       "      <td>0.00</td>\n",
       "      <td>0.00</td>\n",
       "      <td>0.00</td>\n",
       "      <td>0.00</td>\n",
       "      <td>0.00</td>\n",
       "      <td>0.00</td>\n",
       "      <td>0.00</td>\n",
       "    </tr>\n",
       "  </tbody>\n",
       "</table>\n",
       "</div>"
      ],
      "text/plain": [
       "   account_id  time_diff_fromaccounts  paying  is_gmail_fromaccounts  \\\n",
       "0     2793496                   11.00    0.00                   1.00   \n",
       "1     2793496                   11.00    0.00                   1.00   \n",
       "2     2793496                   11.00    0.00                   1.00   \n",
       "3     2793496                   11.00    0.00                   1.00   \n",
       "\n",
       "   has_logo  collection_21_days  trial_period  disable_promotion  \\\n",
       "0      1.00                0.00         14.00               0.00   \n",
       "1      1.00                0.00         14.00               0.00   \n",
       "2      1.00                0.00         14.00               0.00   \n",
       "3      1.00                0.00         14.00               0.00   \n",
       "\n",
       "   max_team_size  min_team_size  billed_users_count  pricing_version  \\\n",
       "0           5.00           2.00                0.00             3.00   \n",
       "1           5.00           2.00                0.00             3.00   \n",
       "2           5.00           2.00                0.00             3.00   \n",
       "3           5.00           2.00                0.00             3.00   \n",
       "\n",
       "   has_domain  lead_score  user_id  is_admin  pending  enabled  \\\n",
       "0        0.00        0.00  6181341      1.00     0.00     1.00   \n",
       "1        0.00        0.00  6181341      1.00     0.00     1.00   \n",
       "2        0.00        0.00  6181341      1.00     0.00     1.00   \n",
       "3        0.00        0.00  6181341      1.00     0.00     1.00   \n",
       "\n",
       "   time_diff_fromusers  serial_number  has_photo  is_gmail_fromusers  \\\n",
       "0                11.00           1.00       1.00                1.00   \n",
       "1                11.00           1.00       1.00                1.00   \n",
       "2                11.00           1.00       1.00                1.00   \n",
       "3                11.00           1.00       1.00                1.00   \n",
       "\n",
       "   campaign_id  first_user_in_account_id  has_phone  total_events  \\\n",
       "0 4,005,514.00             29,837,820.00       1.00         43.00   \n",
       "1 4,005,514.00             29,837,820.00       1.00          1.00   \n",
       "2 4,005,514.00             29,837,820.00       1.00          1.00   \n",
       "3 4,005,514.00             29,837,820.00       1.00          4.00   \n",
       "\n",
       "   column_events  board_events  num_of_boards  count_kind_columns  raw_events  \\\n",
       "0           0.00          0.00           0.00                0.00        0.00   \n",
       "1           0.00          0.00           0.00                0.00        0.00   \n",
       "2           0.00          0.00           0.00                0.00        0.00   \n",
       "3           0.00          0.00           0.00                0.00        0.00   \n",
       "\n",
       "   group_events  invite_events  import_events  notification_events  \\\n",
       "0          0.00           0.00           1.00                 0.00   \n",
       "1          0.00           0.00           0.00                 0.00   \n",
       "2          0.00           0.00           0.00                 0.00   \n",
       "3          0.00           0.00           0.00                 0.00   \n",
       "\n",
       "   new_entry_events  payment_events  inbox_events  communicating_events  \\\n",
       "0              1.00            0.00          1.00                  0.00   \n",
       "1              0.00            0.00          0.00                  0.00   \n",
       "2              0.00            0.00          0.00                  0.00   \n",
       "3              0.00            0.00          0.00                  0.00   \n",
       "\n",
       "   non_communicating_events  web_events  ios_events  android_events  \\\n",
       "0                      2.00       33.00        0.00            0.00   \n",
       "1                      0.00        0.00        0.00            0.00   \n",
       "2                      0.00        0.00        0.00            0.00   \n",
       "3                      0.00        0.00        0.00            0.00   \n",
       "\n",
       "   desktop_app_events  empty_events  \n",
       "0                0.00          7.00  \n",
       "1                0.00          0.00  \n",
       "2                0.00          0.00  \n",
       "3                0.00          0.00  "
      ]
     },
     "execution_count": 108,
     "metadata": {},
     "output_type": "execute_result"
    }
   ],
   "source": [
    "ndf.head(4)"
   ]
  },
  {
   "cell_type": "code",
   "execution_count": 110,
   "metadata": {},
   "outputs": [
    {
     "data": {
      "text/html": [
       "<div>\n",
       "<style scoped>\n",
       "    .dataframe tbody tr th:only-of-type {\n",
       "        vertical-align: middle;\n",
       "    }\n",
       "\n",
       "    .dataframe tbody tr th {\n",
       "        vertical-align: top;\n",
       "    }\n",
       "\n",
       "    .dataframe thead th {\n",
       "        text-align: right;\n",
       "    }\n",
       "</style>\n",
       "<table border=\"1\" class=\"dataframe\">\n",
       "  <thead>\n",
       "    <tr style=\"text-align: right;\">\n",
       "      <th></th>\n",
       "      <th>account_id</th>\n",
       "      <th>time_diff_fromaccounts</th>\n",
       "      <th>paying</th>\n",
       "      <th>is_gmail_fromaccounts</th>\n",
       "      <th>has_logo</th>\n",
       "      <th>collection_21_days</th>\n",
       "      <th>trial_period</th>\n",
       "      <th>disable_promotion</th>\n",
       "      <th>max_team_size</th>\n",
       "      <th>min_team_size</th>\n",
       "      <th>billed_users_count</th>\n",
       "      <th>pricing_version</th>\n",
       "      <th>has_domain</th>\n",
       "      <th>lead_score</th>\n",
       "      <th>user_id</th>\n",
       "      <th>is_admin</th>\n",
       "      <th>pending</th>\n",
       "      <th>enabled</th>\n",
       "      <th>time_diff_fromusers</th>\n",
       "      <th>serial_number</th>\n",
       "      <th>has_photo</th>\n",
       "      <th>is_gmail_fromusers</th>\n",
       "      <th>campaign_id</th>\n",
       "      <th>first_user_in_account_id</th>\n",
       "      <th>has_phone</th>\n",
       "      <th>total_events</th>\n",
       "      <th>column_events</th>\n",
       "      <th>board_events</th>\n",
       "      <th>num_of_boards</th>\n",
       "      <th>count_kind_columns</th>\n",
       "      <th>raw_events</th>\n",
       "      <th>group_events</th>\n",
       "      <th>invite_events</th>\n",
       "      <th>import_events</th>\n",
       "      <th>notification_events</th>\n",
       "      <th>new_entry_events</th>\n",
       "      <th>payment_events</th>\n",
       "      <th>inbox_events</th>\n",
       "      <th>communicating_events</th>\n",
       "      <th>non_communicating_events</th>\n",
       "      <th>web_events</th>\n",
       "      <th>ios_events</th>\n",
       "      <th>android_events</th>\n",
       "      <th>desktop_app_events</th>\n",
       "      <th>empty_events</th>\n",
       "    </tr>\n",
       "  </thead>\n",
       "  <tbody>\n",
       "    <tr>\n",
       "      <th>count</th>\n",
       "      <td>11,422.00</td>\n",
       "      <td>9,686.00</td>\n",
       "      <td>11,422.00</td>\n",
       "      <td>11,422.00</td>\n",
       "      <td>11,422.00</td>\n",
       "      <td>11,422.00</td>\n",
       "      <td>11,422.00</td>\n",
       "      <td>11,422.00</td>\n",
       "      <td>9,260.00</td>\n",
       "      <td>9,260.00</td>\n",
       "      <td>11,422.00</td>\n",
       "      <td>11,422.00</td>\n",
       "      <td>11,422.00</td>\n",
       "      <td>11,422.00</td>\n",
       "      <td>11,422.00</td>\n",
       "      <td>11,422.00</td>\n",
       "      <td>11,422.00</td>\n",
       "      <td>11,422.00</td>\n",
       "      <td>9,036.00</td>\n",
       "      <td>11,422.00</td>\n",
       "      <td>11,422.00</td>\n",
       "      <td>11,422.00</td>\n",
       "      <td>9,024.00</td>\n",
       "      <td>9,637.00</td>\n",
       "      <td>11,422.00</td>\n",
       "      <td>11,323.00</td>\n",
       "      <td>11,323.00</td>\n",
       "      <td>11,323.00</td>\n",
       "      <td>11,323.00</td>\n",
       "      <td>11,323.00</td>\n",
       "      <td>11,422.00</td>\n",
       "      <td>11,323.00</td>\n",
       "      <td>11,323.00</td>\n",
       "      <td>11,323.00</td>\n",
       "      <td>11,323.00</td>\n",
       "      <td>11,323.00</td>\n",
       "      <td>11,323.00</td>\n",
       "      <td>11,323.00</td>\n",
       "      <td>11,323.00</td>\n",
       "      <td>11,323.00</td>\n",
       "      <td>11,323.00</td>\n",
       "      <td>11,323.00</td>\n",
       "      <td>11,323.00</td>\n",
       "      <td>11,323.00</td>\n",
       "      <td>11,323.00</td>\n",
       "    </tr>\n",
       "    <tr>\n",
       "      <th>mean</th>\n",
       "      <td>2,794,045.76</td>\n",
       "      <td>2.09</td>\n",
       "      <td>0.16</td>\n",
       "      <td>0.57</td>\n",
       "      <td>1.00</td>\n",
       "      <td>68.28</td>\n",
       "      <td>14.00</td>\n",
       "      <td>0.08</td>\n",
       "      <td>35.32</td>\n",
       "      <td>22.59</td>\n",
       "      <td>0.87</td>\n",
       "      <td>3.00</td>\n",
       "      <td>0.47</td>\n",
       "      <td>0.05</td>\n",
       "      <td>6,201,831.57</td>\n",
       "      <td>0.69</td>\n",
       "      <td>0.16</td>\n",
       "      <td>0.83</td>\n",
       "      <td>0.82</td>\n",
       "      <td>4.81</td>\n",
       "      <td>1.00</td>\n",
       "      <td>0.61</td>\n",
       "      <td>3,932,275.26</td>\n",
       "      <td>28,730,413.27</td>\n",
       "      <td>1.00</td>\n",
       "      <td>48.39</td>\n",
       "      <td>3.67</td>\n",
       "      <td>0.20</td>\n",
       "      <td>0.50</td>\n",
       "      <td>0.40</td>\n",
       "      <td>1.52</td>\n",
       "      <td>0.15</td>\n",
       "      <td>0.09</td>\n",
       "      <td>0.47</td>\n",
       "      <td>0.04</td>\n",
       "      <td>0.50</td>\n",
       "      <td>0.15</td>\n",
       "      <td>0.45</td>\n",
       "      <td>0.39</td>\n",
       "      <td>9.56</td>\n",
       "      <td>34.41</td>\n",
       "      <td>4.51</td>\n",
       "      <td>2.48</td>\n",
       "      <td>1.39</td>\n",
       "      <td>1.87</td>\n",
       "    </tr>\n",
       "    <tr>\n",
       "      <th>std</th>\n",
       "      <td>268.15</td>\n",
       "      <td>5.79</td>\n",
       "      <td>0.37</td>\n",
       "      <td>0.49</td>\n",
       "      <td>0.00</td>\n",
       "      <td>235.96</td>\n",
       "      <td>0.00</td>\n",
       "      <td>0.26</td>\n",
       "      <td>110.62</td>\n",
       "      <td>86.59</td>\n",
       "      <td>2.37</td>\n",
       "      <td>0.00</td>\n",
       "      <td>0.50</td>\n",
       "      <td>0.22</td>\n",
       "      <td>154,866.13</td>\n",
       "      <td>0.46</td>\n",
       "      <td>0.36</td>\n",
       "      <td>0.38</td>\n",
       "      <td>5.64</td>\n",
       "      <td>9.94</td>\n",
       "      <td>0.00</td>\n",
       "      <td>0.49</td>\n",
       "      <td>458,342.91</td>\n",
       "      <td>4,413,968.53</td>\n",
       "      <td>0.00</td>\n",
       "      <td>150.24</td>\n",
       "      <td>22.54</td>\n",
       "      <td>1.24</td>\n",
       "      <td>1.54</td>\n",
       "      <td>1.54</td>\n",
       "      <td>8.10</td>\n",
       "      <td>1.57</td>\n",
       "      <td>1.72</td>\n",
       "      <td>1.62</td>\n",
       "      <td>0.51</td>\n",
       "      <td>1.37</td>\n",
       "      <td>1.04</td>\n",
       "      <td>1.81</td>\n",
       "      <td>1.78</td>\n",
       "      <td>46.11</td>\n",
       "      <td>135.34</td>\n",
       "      <td>38.13</td>\n",
       "      <td>17.50</td>\n",
       "      <td>23.53</td>\n",
       "      <td>4.89</td>\n",
       "    </tr>\n",
       "    <tr>\n",
       "      <th>min</th>\n",
       "      <td>2,793,496.00</td>\n",
       "      <td>-9.00</td>\n",
       "      <td>0.00</td>\n",
       "      <td>0.00</td>\n",
       "      <td>1.00</td>\n",
       "      <td>0.00</td>\n",
       "      <td>14.00</td>\n",
       "      <td>0.00</td>\n",
       "      <td>0.00</td>\n",
       "      <td>0.00</td>\n",
       "      <td>0.00</td>\n",
       "      <td>3.00</td>\n",
       "      <td>0.00</td>\n",
       "      <td>0.00</td>\n",
       "      <td>6,156,946.00</td>\n",
       "      <td>0.00</td>\n",
       "      <td>0.00</td>\n",
       "      <td>0.00</td>\n",
       "      <td>-9.00</td>\n",
       "      <td>1.00</td>\n",
       "      <td>1.00</td>\n",
       "      <td>0.00</td>\n",
       "      <td>66,981.00</td>\n",
       "      <td>549,873.00</td>\n",
       "      <td>1.00</td>\n",
       "      <td>1.00</td>\n",
       "      <td>0.00</td>\n",
       "      <td>0.00</td>\n",
       "      <td>0.00</td>\n",
       "      <td>0.00</td>\n",
       "      <td>0.00</td>\n",
       "      <td>0.00</td>\n",
       "      <td>0.00</td>\n",
       "      <td>0.00</td>\n",
       "      <td>0.00</td>\n",
       "      <td>0.00</td>\n",
       "      <td>0.00</td>\n",
       "      <td>0.00</td>\n",
       "      <td>0.00</td>\n",
       "      <td>0.00</td>\n",
       "      <td>0.00</td>\n",
       "      <td>0.00</td>\n",
       "      <td>0.00</td>\n",
       "      <td>0.00</td>\n",
       "      <td>0.00</td>\n",
       "    </tr>\n",
       "    <tr>\n",
       "      <th>25%</th>\n",
       "      <td>2,793,835.00</td>\n",
       "      <td>-5.00</td>\n",
       "      <td>0.00</td>\n",
       "      <td>0.00</td>\n",
       "      <td>1.00</td>\n",
       "      <td>0.00</td>\n",
       "      <td>14.00</td>\n",
       "      <td>0.00</td>\n",
       "      <td>5.00</td>\n",
       "      <td>2.00</td>\n",
       "      <td>0.00</td>\n",
       "      <td>3.00</td>\n",
       "      <td>0.00</td>\n",
       "      <td>0.00</td>\n",
       "      <td>6,182,128.00</td>\n",
       "      <td>0.00</td>\n",
       "      <td>0.00</td>\n",
       "      <td>1.00</td>\n",
       "      <td>-5.00</td>\n",
       "      <td>1.00</td>\n",
       "      <td>1.00</td>\n",
       "      <td>0.00</td>\n",
       "      <td>4,005,729.00</td>\n",
       "      <td>29,813,085.00</td>\n",
       "      <td>1.00</td>\n",
       "      <td>2.00</td>\n",
       "      <td>0.00</td>\n",
       "      <td>0.00</td>\n",
       "      <td>0.00</td>\n",
       "      <td>0.00</td>\n",
       "      <td>0.00</td>\n",
       "      <td>0.00</td>\n",
       "      <td>0.00</td>\n",
       "      <td>0.00</td>\n",
       "      <td>0.00</td>\n",
       "      <td>0.00</td>\n",
       "      <td>0.00</td>\n",
       "      <td>0.00</td>\n",
       "      <td>0.00</td>\n",
       "      <td>0.00</td>\n",
       "      <td>0.00</td>\n",
       "      <td>0.00</td>\n",
       "      <td>0.00</td>\n",
       "      <td>0.00</td>\n",
       "      <td>0.00</td>\n",
       "    </tr>\n",
       "    <tr>\n",
       "      <th>50%</th>\n",
       "      <td>2,794,060.00</td>\n",
       "      <td>2.00</td>\n",
       "      <td>0.00</td>\n",
       "      <td>1.00</td>\n",
       "      <td>1.00</td>\n",
       "      <td>0.00</td>\n",
       "      <td>14.00</td>\n",
       "      <td>0.00</td>\n",
       "      <td>5.00</td>\n",
       "      <td>2.00</td>\n",
       "      <td>0.00</td>\n",
       "      <td>3.00</td>\n",
       "      <td>0.00</td>\n",
       "      <td>0.00</td>\n",
       "      <td>6,182,807.00</td>\n",
       "      <td>1.00</td>\n",
       "      <td>0.00</td>\n",
       "      <td>1.00</td>\n",
       "      <td>1.00</td>\n",
       "      <td>1.00</td>\n",
       "      <td>1.00</td>\n",
       "      <td>1.00</td>\n",
       "      <td>4,006,077.00</td>\n",
       "      <td>29,843,552.00</td>\n",
       "      <td>1.00</td>\n",
       "      <td>4.00</td>\n",
       "      <td>0.00</td>\n",
       "      <td>0.00</td>\n",
       "      <td>0.00</td>\n",
       "      <td>0.00</td>\n",
       "      <td>0.00</td>\n",
       "      <td>0.00</td>\n",
       "      <td>0.00</td>\n",
       "      <td>0.00</td>\n",
       "      <td>0.00</td>\n",
       "      <td>0.00</td>\n",
       "      <td>0.00</td>\n",
       "      <td>0.00</td>\n",
       "      <td>0.00</td>\n",
       "      <td>0.00</td>\n",
       "      <td>0.00</td>\n",
       "      <td>0.00</td>\n",
       "      <td>0.00</td>\n",
       "      <td>0.00</td>\n",
       "      <td>0.00</td>\n",
       "    </tr>\n",
       "    <tr>\n",
       "      <th>75%</th>\n",
       "      <td>2,794,252.00</td>\n",
       "      <td>8.00</td>\n",
       "      <td>0.00</td>\n",
       "      <td>1.00</td>\n",
       "      <td>1.00</td>\n",
       "      <td>0.00</td>\n",
       "      <td>14.00</td>\n",
       "      <td>0.00</td>\n",
       "      <td>10.00</td>\n",
       "      <td>6.00</td>\n",
       "      <td>0.00</td>\n",
       "      <td>3.00</td>\n",
       "      <td>1.00</td>\n",
       "      <td>0.00</td>\n",
       "      <td>6,183,721.00</td>\n",
       "      <td>1.00</td>\n",
       "      <td>0.00</td>\n",
       "      <td>1.00</td>\n",
       "      <td>3.50</td>\n",
       "      <td>2.00</td>\n",
       "      <td>1.00</td>\n",
       "      <td>1.00</td>\n",
       "      <td>4,006,434.00</td>\n",
       "      <td>29,849,428.00</td>\n",
       "      <td>1.00</td>\n",
       "      <td>23.00</td>\n",
       "      <td>0.00</td>\n",
       "      <td>0.00</td>\n",
       "      <td>0.00</td>\n",
       "      <td>0.00</td>\n",
       "      <td>0.00</td>\n",
       "      <td>0.00</td>\n",
       "      <td>0.00</td>\n",
       "      <td>0.00</td>\n",
       "      <td>0.00</td>\n",
       "      <td>0.00</td>\n",
       "      <td>0.00</td>\n",
       "      <td>0.00</td>\n",
       "      <td>0.00</td>\n",
       "      <td>1.00</td>\n",
       "      <td>0.00</td>\n",
       "      <td>0.00</td>\n",
       "      <td>0.00</td>\n",
       "      <td>0.00</td>\n",
       "      <td>1.00</td>\n",
       "    </tr>\n",
       "    <tr>\n",
       "      <th>max</th>\n",
       "      <td>2,794,496.00</td>\n",
       "      <td>13.75</td>\n",
       "      <td>1.00</td>\n",
       "      <td>1.00</td>\n",
       "      <td>1.00</td>\n",
       "      <td>1,428.00</td>\n",
       "      <td>14.00</td>\n",
       "      <td>1.00</td>\n",
       "      <td>500.00</td>\n",
       "      <td>500.00</td>\n",
       "      <td>15.00</td>\n",
       "      <td>3.00</td>\n",
       "      <td>1.00</td>\n",
       "      <td>1.00</td>\n",
       "      <td>9,612,412.00</td>\n",
       "      <td>1.00</td>\n",
       "      <td>1.00</td>\n",
       "      <td>1.00</td>\n",
       "      <td>13.75</td>\n",
       "      <td>55.00</td>\n",
       "      <td>1.00</td>\n",
       "      <td>1.00</td>\n",
       "      <td>6,072,941.00</td>\n",
       "      <td>49,567,328.00</td>\n",
       "      <td>1.00</td>\n",
       "      <td>2,570.00</td>\n",
       "      <td>356.00</td>\n",
       "      <td>75.00</td>\n",
       "      <td>37.00</td>\n",
       "      <td>20.00</td>\n",
       "      <td>148.00</td>\n",
       "      <td>72.00</td>\n",
       "      <td>94.00</td>\n",
       "      <td>31.00</td>\n",
       "      <td>29.00</td>\n",
       "      <td>50.00</td>\n",
       "      <td>17.00</td>\n",
       "      <td>76.00</td>\n",
       "      <td>26.00</td>\n",
       "      <td>689.00</td>\n",
       "      <td>2,118.00</td>\n",
       "      <td>2,559.00</td>\n",
       "      <td>310.00</td>\n",
       "      <td>1,117.00</td>\n",
       "      <td>169.00</td>\n",
       "    </tr>\n",
       "  </tbody>\n",
       "</table>\n",
       "</div>"
      ],
      "text/plain": [
       "        account_id  time_diff_fromaccounts    paying  is_gmail_fromaccounts  \\\n",
       "count    11,422.00                9,686.00 11,422.00              11,422.00   \n",
       "mean  2,794,045.76                    2.09      0.16                   0.57   \n",
       "std         268.15                    5.79      0.37                   0.49   \n",
       "min   2,793,496.00                   -9.00      0.00                   0.00   \n",
       "25%   2,793,835.00                   -5.00      0.00                   0.00   \n",
       "50%   2,794,060.00                    2.00      0.00                   1.00   \n",
       "75%   2,794,252.00                    8.00      0.00                   1.00   \n",
       "max   2,794,496.00                   13.75      1.00                   1.00   \n",
       "\n",
       "       has_logo  collection_21_days  trial_period  disable_promotion  \\\n",
       "count 11,422.00           11,422.00     11,422.00          11,422.00   \n",
       "mean       1.00               68.28         14.00               0.08   \n",
       "std        0.00              235.96          0.00               0.26   \n",
       "min        1.00                0.00         14.00               0.00   \n",
       "25%        1.00                0.00         14.00               0.00   \n",
       "50%        1.00                0.00         14.00               0.00   \n",
       "75%        1.00                0.00         14.00               0.00   \n",
       "max        1.00            1,428.00         14.00               1.00   \n",
       "\n",
       "       max_team_size  min_team_size  billed_users_count  pricing_version  \\\n",
       "count       9,260.00       9,260.00           11,422.00        11,422.00   \n",
       "mean           35.32          22.59                0.87             3.00   \n",
       "std           110.62          86.59                2.37             0.00   \n",
       "min             0.00           0.00                0.00             3.00   \n",
       "25%             5.00           2.00                0.00             3.00   \n",
       "50%             5.00           2.00                0.00             3.00   \n",
       "75%            10.00           6.00                0.00             3.00   \n",
       "max           500.00         500.00               15.00             3.00   \n",
       "\n",
       "       has_domain  lead_score      user_id  is_admin   pending   enabled  \\\n",
       "count   11,422.00   11,422.00    11,422.00 11,422.00 11,422.00 11,422.00   \n",
       "mean         0.47        0.05 6,201,831.57      0.69      0.16      0.83   \n",
       "std          0.50        0.22   154,866.13      0.46      0.36      0.38   \n",
       "min          0.00        0.00 6,156,946.00      0.00      0.00      0.00   \n",
       "25%          0.00        0.00 6,182,128.00      0.00      0.00      1.00   \n",
       "50%          0.00        0.00 6,182,807.00      1.00      0.00      1.00   \n",
       "75%          1.00        0.00 6,183,721.00      1.00      0.00      1.00   \n",
       "max          1.00        1.00 9,612,412.00      1.00      1.00      1.00   \n",
       "\n",
       "       time_diff_fromusers  serial_number  has_photo  is_gmail_fromusers  \\\n",
       "count             9,036.00      11,422.00  11,422.00           11,422.00   \n",
       "mean                  0.82           4.81       1.00                0.61   \n",
       "std                   5.64           9.94       0.00                0.49   \n",
       "min                  -9.00           1.00       1.00                0.00   \n",
       "25%                  -5.00           1.00       1.00                0.00   \n",
       "50%                   1.00           1.00       1.00                1.00   \n",
       "75%                   3.50           2.00       1.00                1.00   \n",
       "max                  13.75          55.00       1.00                1.00   \n",
       "\n",
       "       campaign_id  first_user_in_account_id  has_phone  total_events  \\\n",
       "count     9,024.00                  9,637.00  11,422.00     11,323.00   \n",
       "mean  3,932,275.26             28,730,413.27       1.00         48.39   \n",
       "std     458,342.91              4,413,968.53       0.00        150.24   \n",
       "min      66,981.00                549,873.00       1.00          1.00   \n",
       "25%   4,005,729.00             29,813,085.00       1.00          2.00   \n",
       "50%   4,006,077.00             29,843,552.00       1.00          4.00   \n",
       "75%   4,006,434.00             29,849,428.00       1.00         23.00   \n",
       "max   6,072,941.00             49,567,328.00       1.00      2,570.00   \n",
       "\n",
       "       column_events  board_events  num_of_boards  count_kind_columns  \\\n",
       "count      11,323.00     11,323.00      11,323.00           11,323.00   \n",
       "mean            3.67          0.20           0.50                0.40   \n",
       "std            22.54          1.24           1.54                1.54   \n",
       "min             0.00          0.00           0.00                0.00   \n",
       "25%             0.00          0.00           0.00                0.00   \n",
       "50%             0.00          0.00           0.00                0.00   \n",
       "75%             0.00          0.00           0.00                0.00   \n",
       "max           356.00         75.00          37.00               20.00   \n",
       "\n",
       "       raw_events  group_events  invite_events  import_events  \\\n",
       "count   11,422.00     11,323.00      11,323.00      11,323.00   \n",
       "mean         1.52          0.15           0.09           0.47   \n",
       "std          8.10          1.57           1.72           1.62   \n",
       "min          0.00          0.00           0.00           0.00   \n",
       "25%          0.00          0.00           0.00           0.00   \n",
       "50%          0.00          0.00           0.00           0.00   \n",
       "75%          0.00          0.00           0.00           0.00   \n",
       "max        148.00         72.00          94.00          31.00   \n",
       "\n",
       "       notification_events  new_entry_events  payment_events  inbox_events  \\\n",
       "count            11,323.00         11,323.00       11,323.00     11,323.00   \n",
       "mean                  0.04              0.50            0.15          0.45   \n",
       "std                   0.51              1.37            1.04          1.81   \n",
       "min                   0.00              0.00            0.00          0.00   \n",
       "25%                   0.00              0.00            0.00          0.00   \n",
       "50%                   0.00              0.00            0.00          0.00   \n",
       "75%                   0.00              0.00            0.00          0.00   \n",
       "max                  29.00             50.00           17.00         76.00   \n",
       "\n",
       "       communicating_events  non_communicating_events  web_events  ios_events  \\\n",
       "count             11,323.00                 11,323.00   11,323.00   11,323.00   \n",
       "mean                   0.39                      9.56       34.41        4.51   \n",
       "std                    1.78                     46.11      135.34       38.13   \n",
       "min                    0.00                      0.00        0.00        0.00   \n",
       "25%                    0.00                      0.00        0.00        0.00   \n",
       "50%                    0.00                      0.00        0.00        0.00   \n",
       "75%                    0.00                      1.00        0.00        0.00   \n",
       "max                   26.00                    689.00    2,118.00    2,559.00   \n",
       "\n",
       "       android_events  desktop_app_events  empty_events  \n",
       "count       11,323.00           11,323.00     11,323.00  \n",
       "mean             2.48                1.39          1.87  \n",
       "std             17.50               23.53          4.89  \n",
       "min              0.00                0.00          0.00  \n",
       "25%              0.00                0.00          0.00  \n",
       "50%              0.00                0.00          0.00  \n",
       "75%              0.00                0.00          1.00  \n",
       "max            310.00            1,117.00        169.00  "
      ]
     },
     "execution_count": 110,
     "metadata": {},
     "output_type": "execute_result"
    }
   ],
   "source": [
    "ndf.describe()"
   ]
  },
  {
   "cell_type": "code",
   "execution_count": 113,
   "metadata": {},
   "outputs": [
    {
     "data": {
      "text/plain": [
       "<matplotlib.axes._subplots.AxesSubplot at 0x11c0c32e8>"
      ]
     },
     "execution_count": 113,
     "metadata": {},
     "output_type": "execute_result"
    },
    {
     "data": {
      "image/png": "[encoded data removed]",
      "text/plain": [
       "<Figure size 432x288 with 1 Axes>"
      ]
     },
     "metadata": {
      "needs_background": "light"
     },
     "output_type": "display_data"
    }
   ],
   "source": [
    "ndf.max_team_size.hist(bins=40)"
   ]
  },
  {
   "cell_type": "code",
   "execution_count": 128,
   "metadata": {},
   "outputs": [
    {
     "data": {
      "text/plain": [
       "5.00      5807\n",
       "10.00     1912\n",
       "1.00      1747\n",
       "15.00      726\n",
       "500.00     488\n",
       "50.00      210\n",
       "25.00      201\n",
       "100.00     176\n",
       "0.00       155\n",
       "Name: max_team_size, dtype: int64"
      ]
     },
     "execution_count": 128,
     "metadata": {},
     "output_type": "execute_result"
    }
   ],
   "source": [
    "ndf.max_team_size.value_counts(dropna=False)"
   ]
  },
  {
   "cell_type": "code",
   "execution_count": 126,
   "metadata": {},
   "outputs": [],
   "source": [
    "df.max_team_size.fillna(5, inplace=True)"
   ]
  },
  {
   "cell_type": "code",
   "execution_count": 115,
   "metadata": {},
   "outputs": [],
   "source": [
    "from sklearn.preprocessing import MinMaxScaler"
   ]
  },
  {
   "cell_type": "code",
   "execution_count": 116,
   "metadata": {},
   "outputs": [],
   "source": [
    "minmaxer = MinMaxScaler()"
   ]
  },
  {
   "cell_type": "code",
   "execution_count": 130,
   "metadata": {},
   "outputs": [],
   "source": [
    "df.max_team_size = minmaxer.fit_transform(df[['max_team_size']])"
   ]
  },
  {
   "cell_type": "code",
   "execution_count": 132,
   "metadata": {},
   "outputs": [
    {
     "data": {
      "text/plain": [
       "<matplotlib.axes._subplots.AxesSubplot at 0x1275ce0f0>"
      ]
     },
     "execution_count": 132,
     "metadata": {},
     "output_type": "execute_result"
    },
    {
     "data": {
      "image/png": "[encoded data removed]",
      "text/plain": [
       "<Figure size 432x288 with 1 Axes>"
      ]
     },
     "metadata": {
      "needs_background": "light"
     },
     "output_type": "display_data"
    }
   ],
   "source": [
    "df.max_team_size.hist(bins=40)"
   ]
  },
  {
   "cell_type": "code",
   "execution_count": null,
   "metadata": {},
   "outputs": [],
   "source": []
  }
 ],
 "metadata": {
  "colab": {
   "name": "Untitled0.ipynb",
   "provenance": [],
   "version": "0.3.2"
  },
  "kernelspec": {
   "display_name": "py3",
   "language": "python",
   "name": "py3"
  },
  "language_info": {
   "codemirror_mode": {
    "name": "ipython",
    "version": 3
   },
   "file_extension": ".py",
   "mimetype": "text/x-python",
   "name": "python",
   "nbconvert_exporter": "python",
   "pygments_lexer": "ipython3",
   "version": "3.6.5"
  }
 },
 "nbformat": 4,
 "nbformat_minor": 1
}
